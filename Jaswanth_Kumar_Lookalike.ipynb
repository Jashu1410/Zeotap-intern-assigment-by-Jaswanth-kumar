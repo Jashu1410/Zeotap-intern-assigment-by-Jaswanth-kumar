{
  "nbformat": 4,
  "nbformat_minor": 0,
  "metadata": {
    "colab": {
      "provenance": []
    },
    "kernelspec": {
      "name": "python3",
      "display_name": "Python 3"
    },
    "language_info": {
      "name": "python"
    }
  },
  "cells": [
    {
      "cell_type": "markdown",
      "source": [
        "**Task 2: Lookalike Model**"
      ],
      "metadata": {
        "id": "9wHWWScKTXrp"
      }
    },
    {
      "cell_type": "markdown",
      "source": [
        "import libraries"
      ],
      "metadata": {
        "id": "g5XIRP8iTJZy"
      }
    },
    {
      "cell_type": "code",
      "execution_count": 3,
      "metadata": {
        "id": "i65rzVn7vqHd"
      },
      "outputs": [],
      "source": [
        "import pandas as pd\n",
        "from sklearn.metrics.pairwise import cosine_similarity\n",
        "from sklearn.preprocessing import StandardScaler\n"
      ]
    },
    {
      "cell_type": "markdown",
      "source": [
        "## Load datasets\n"
      ],
      "metadata": {
        "id": "3EY4pfYJS5ZE"
      }
    },
    {
      "cell_type": "code",
      "source": [
        "customers = pd.read_csv('Customers.csv')\n",
        "products = pd.read_csv('Products.csv')\n",
        "transactions = pd.read_csv('Transactions.csv')\n"
      ],
      "metadata": {
        "id": "okH_mul-QvIW"
      },
      "execution_count": 2,
      "outputs": []
    },
    {
      "cell_type": "markdown",
      "source": [
        "# Merging transactions with customers and Merge the result with products"
      ],
      "metadata": {
        "id": "laidTVGHSzPZ"
      }
    },
    {
      "cell_type": "code",
      "source": [
        "data = pd.merge(transactions, customers, on='CustomerID')\n",
        "data = pd.merge(data, products, on='ProductID')"
      ],
      "metadata": {
        "id": "owLQcVtKQ8lU"
      },
      "execution_count": 4,
      "outputs": []
    },
    {
      "cell_type": "code",
      "source": [
        "data.rename(columns={'Price_x': 'TransactionPrice', 'Price_y': 'ProductPrice'}, inplace=True) # Rename duplicate price columns for clarity\n",
        "print(data.head())"
      ],
      "metadata": {
        "colab": {
          "base_uri": "https://localhost:8080/"
        },
        "id": "IVu67mUjTXwe",
        "outputId": "a1f7fed5-7a32-4071-99f1-749b58bc33a2"
      },
      "execution_count": 6,
      "outputs": [
        {
          "output_type": "stream",
          "name": "stdout",
          "text": [
            "  TransactionID CustomerID ProductID      TransactionDate  Quantity  \\\n",
            "0        T00001      C0199      P067  2024-08-25 12:38:23         1   \n",
            "1        T00112      C0146      P067  2024-05-27 22:23:54         1   \n",
            "2        T00166      C0127      P067  2024-04-25 07:38:55         1   \n",
            "3        T00272      C0087      P067  2024-03-26 22:55:37         2   \n",
            "4        T00363      C0070      P067  2024-03-21 15:10:10         3   \n",
            "\n",
            "   TotalValue  TransactionPrice     CustomerName         Region  SignupDate  \\\n",
            "0      300.68            300.68   Andrea Jenkins         Europe  2022-12-03   \n",
            "1      300.68            300.68  Brittany Harvey           Asia  2024-09-04   \n",
            "2      300.68            300.68  Kathryn Stevens         Europe  2024-04-04   \n",
            "3      601.36            300.68  Travis Campbell  South America  2024-04-11   \n",
            "4      902.04            300.68    Timothy Perez         Europe  2022-03-15   \n",
            "\n",
            "                       ProductName     Category  ProductPrice  \n",
            "0  ComfortLiving Bluetooth Speaker  Electronics        300.68  \n",
            "1  ComfortLiving Bluetooth Speaker  Electronics        300.68  \n",
            "2  ComfortLiving Bluetooth Speaker  Electronics        300.68  \n",
            "3  ComfortLiving Bluetooth Speaker  Electronics        300.68  \n",
            "4  ComfortLiving Bluetooth Speaker  Electronics        300.68  \n"
          ]
        }
      ]
    },
    {
      "cell_type": "markdown",
      "source": [
        " Aggregate transaction data"
      ],
      "metadata": {
        "id": "eay7Hi_TUFgs"
      }
    },
    {
      "cell_type": "code",
      "source": [
        "customer_profiles = data.groupby('CustomerID').agg({\n",
        "    'TotalValue': 'sum',  # Total money spent\n",
        "    'Quantity': 'sum',  # Total items purchased\n",
        "    'TransactionPrice': 'mean',  # Average transaction price\n",
        "    'Region': 'first'  # Region of the customer\n",
        "}).reset_index()\n",
        "\n",
        "print(customer_profiles.head())\n"
      ],
      "metadata": {
        "colab": {
          "base_uri": "https://localhost:8080/"
        },
        "id": "7lE6iGLkRAB1",
        "outputId": "e7c14140-56b3-404f-81a3-4c17deac9efe"
      },
      "execution_count": 9,
      "outputs": [
        {
          "output_type": "stream",
          "name": "stdout",
          "text": [
            "  CustomerID  TotalValue  Quantity  TransactionPrice         Region\n",
            "0      C0001     3354.52        12        278.334000  South America\n",
            "1      C0002     1862.74        10        208.920000           Asia\n",
            "2      C0003     2725.38        14        195.707500  South America\n",
            "3      C0004     5354.88        23        240.636250  South America\n",
            "4      C0005     2034.24         7        291.603333           Asia\n"
          ]
        }
      ]
    },
    {
      "cell_type": "markdown",
      "source": [
        "Standardize numerical data for similarity calculation"
      ],
      "metadata": {
        "id": "_5H0uPvVUeFd"
      }
    },
    {
      "cell_type": "code",
      "source": [
        "features = customer_profiles[['TotalValue', 'Quantity', 'TransactionPrice']]\n",
        "scaler = StandardScaler()\n",
        "features_scaled = scaler.fit_transform(features)\n",
        "print(features_scaled[:5])"
      ],
      "metadata": {
        "colab": {
          "base_uri": "https://localhost:8080/"
        },
        "id": "vVWV5VK9Rnlu",
        "outputId": "e874838e-397d-4ea1-c0d1-f3c5f15d9b30"
      },
      "execution_count": 10,
      "outputs": [
        {
          "output_type": "stream",
          "name": "stdout",
          "text": [
            "[[-0.06170143 -0.12203296  0.09467022]\n",
            " [-0.87774353 -0.44800021 -0.90401592]\n",
            " [-0.40585722  0.20393428 -1.09410928]\n",
            " [ 1.03254704  1.67078689 -0.44770193]\n",
            " [-0.78392861 -0.93695108  0.28558127]]\n"
          ]
        }
      ]
    },
    {
      "cell_type": "markdown",
      "source": [
        "Use cosine similarity to find relationships between customers"
      ],
      "metadata": {
        "id": "Tqqh8P9kUlCw"
      }
    },
    {
      "cell_type": "code",
      "source": [
        "similarity_matrix = cosine_similarity(features_scaled)\n",
        "similarity_df = pd.DataFrame(similarity_matrix, index=customer_profiles['CustomerID'], columns=customer_profiles['CustomerID'])\n",
        "print(similarity_df.head())"
      ],
      "metadata": {
        "colab": {
          "base_uri": "https://localhost:8080/"
        },
        "id": "ps73gGZ-Ru53",
        "outputId": "aba214a8-3a8b-406e-b5b5-ee245edd18a0"
      },
      "execution_count": 11,
      "outputs": [
        {
          "output_type": "stream",
          "name": "stdout",
          "text": [
            "CustomerID     C0001     C0002     C0003     C0004     C0005     C0006  \\\n",
            "CustomerID                                                               \n",
            "C0001       1.000000  0.104513 -0.524923 -0.925208  0.909351  0.442395   \n",
            "C0002       0.104513  1.000000  0.791531 -0.464035  0.506433 -0.844066   \n",
            "C0003      -0.524923  0.791531  1.000000  0.172432 -0.124725 -0.994780   \n",
            "C0004      -0.925208 -0.464035  0.172432  1.000000 -0.990272 -0.083333   \n",
            "C0005       0.909351  0.506433 -0.124725 -0.990272  1.000000  0.029596   \n",
            "\n",
            "CustomerID     C0007     C0008     C0009     C0010  ...     C0191     C0192  \\\n",
            "CustomerID                                          ...                       \n",
            "C0001       0.957854 -0.980620  0.885035 -0.268370  ...  0.953552  0.875392   \n",
            "C0002      -0.126391 -0.208586  0.552510  0.929885  ...  0.366172  0.561020   \n",
            "C0003      -0.694381  0.426063 -0.070251  0.960431  ... -0.270712 -0.056387   \n",
            "C0004      -0.786871  0.960972 -0.985116 -0.108724  ... -0.969254 -0.975266   \n",
            "C0005       0.784580 -0.928571  0.998476  0.153760  ...  0.984067  0.995941   \n",
            "\n",
            "CustomerID     C0193     C0194     C0195     C0196     C0197     C0198  \\\n",
            "CustomerID                                                               \n",
            "C0001       0.590772 -0.928283 -0.999064  0.431472  0.322620  0.656770   \n",
            "C0002       0.854971  0.076219 -0.068506 -0.850966  0.974669  0.812601   \n",
            "C0003       0.367126  0.631312  0.555466 -0.992705  0.635507  0.290662   \n",
            "C0004      -0.851778  0.765946  0.913077 -0.062481 -0.650336 -0.892231   \n",
            "C0005       0.861752 -0.786650 -0.892508  0.021657  0.683538  0.902453   \n",
            "\n",
            "CustomerID     C0199     C0200  \n",
            "CustomerID                      \n",
            "C0001       0.543288 -0.470679  \n",
            "C0002       0.889215 -0.926208  \n",
            "C0003       0.427997 -0.503792  \n",
            "C0004      -0.806156  0.758721  \n",
            "C0005       0.843168 -0.794058  \n",
            "\n",
            "[5 rows x 199 columns]\n"
          ]
        }
      ]
    },
    {
      "cell_type": "markdown",
      "source": [
        "Top 3 most similar customers for each customer"
      ],
      "metadata": {
        "id": "jV0_EM64VPJW"
      }
    },
    {
      "cell_type": "code",
      "source": [
        "def get_top_3_similar(customers_df, similarity_df):\n",
        "    lookalikes = {}\n",
        "    for customer_id in similarity_df.index:\n",
        "        similar_customers = similarity_df[customer_id].sort_values(ascending=False)[1:4]\n",
        "        lookalikes[customer_id] = list(zip(similar_customers.index, similar_customers.values))\n",
        "    return lookalikes\n",
        "\n",
        "lookalike_dict = get_top_3_similar(customer_profiles, similarity_df)\n",
        "\n",
        "lookalike_list = [\n",
        "    {'CustomerID': cust_id, 'Lookalikes': lookalike}\n",
        "    for cust_id, lookalike in lookalike_dict.items()\n",
        "]\n",
        "lookalike_df = pd.DataFrame(lookalike_list)\n",
        "print(lookalike_df.head())"
      ],
      "metadata": {
        "colab": {
          "base_uri": "https://localhost:8080/"
        },
        "id": "lkOgLSMkR5KT",
        "outputId": "9cd04f50-b57b-47a6-fd2c-fc07e30f334a"
      },
      "execution_count": 12,
      "outputs": [
        {
          "output_type": "stream",
          "name": "stdout",
          "text": [
            "  CustomerID                                         Lookalikes\n",
            "0      C0001  [(C0103, 0.9975729385618538), (C0092, 0.996878...\n",
            "1      C0002  [(C0029, 0.9998543931340029), (C0077, 0.996103...\n",
            "2      C0003  [(C0111, 0.9984874468302141), (C0190, 0.996656...\n",
            "3      C0004  [(C0165, 0.9983897071764074), (C0162, 0.998086...\n",
            "4      C0005  [(C0167, 0.9999721868436701), (C0020, 0.999714...\n"
          ]
        }
      ]
    },
    {
      "cell_type": "markdown",
      "source": [
        "Saving as CSV file"
      ],
      "metadata": {
        "id": "AbTHKHWzVbjT"
      }
    },
    {
      "cell_type": "code",
      "source": [
        "lookalike_df = lookalike_df[lookalike_df['CustomerID'].isin(customer_profiles['CustomerID'][:20])]\n",
        "lookalike_df.to_csv('Jaswanth_Kumar_Lookalike.csv', index=False)\n",
        "print(\"Lookalike results saved successfully!\")\n"
      ],
      "metadata": {
        "colab": {
          "base_uri": "https://localhost:8080/"
        },
        "id": "UueZPHWhSFqW",
        "outputId": "0e34b1d3-96d8-4db2-b038-3b4960f54cf7"
      },
      "execution_count": 13,
      "outputs": [
        {
          "output_type": "stream",
          "name": "stdout",
          "text": [
            "Lookalike results saved successfully!\n"
          ]
        }
      ]
    }
  ]
}