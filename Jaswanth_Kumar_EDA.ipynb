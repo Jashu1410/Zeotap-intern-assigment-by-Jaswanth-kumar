{
  "nbformat": 4,
  "nbformat_minor": 0,
  "metadata": {
    "colab": {
      "provenance": []
    },
    "kernelspec": {
      "name": "python3",
      "display_name": "Python 3"
    },
    "language_info": {
      "name": "python"
    }
  },
  "cells": [
    {
      "cell_type": "markdown",
      "source": [
        "**Task 1: Exploratory Data Analysis (EDA) and Business Insights**"
      ],
      "metadata": {
        "id": "bzrRVfkWOUv2"
      }
    },
    {
      "cell_type": "markdown",
      "source": [
        "#import three files"
      ],
      "metadata": {
        "id": "2jbxAOxiKhtN"
      }
    },
    {
      "cell_type": "code",
      "execution_count": null,
      "metadata": {
        "id": "ACEwsJBKJPee"
      },
      "outputs": [],
      "source": [
        "import pandas as pd\n",
        "customers = pd.read_csv('Customers.csv')\n",
        "products = pd.read_csv('Products.csv')\n",
        "transactions = pd.read_csv('Transactions.csv')\n"
      ]
    },
    {
      "cell_type": "markdown",
      "source": [
        "#first five rows of customers table"
      ],
      "metadata": {
        "id": "YG2gQ8GLLoYx"
      }
    },
    {
      "cell_type": "code",
      "source": [
        "print(customers.head())\n"
      ],
      "metadata": {
        "colab": {
          "base_uri": "https://localhost:8080/"
        },
        "id": "PzUD8NcdLW0N",
        "outputId": "6c6d08bb-e8e7-4509-e568-0f3a6b32615c"
      },
      "execution_count": null,
      "outputs": [
        {
          "output_type": "stream",
          "name": "stdout",
          "text": [
            "  CustomerID        CustomerName         Region  SignupDate\n",
            "0      C0001    Lawrence Carroll  South America  2022-07-10\n",
            "1      C0002      Elizabeth Lutz           Asia  2022-02-13\n",
            "2      C0003      Michael Rivera  South America  2024-03-07\n",
            "3      C0004  Kathleen Rodriguez  South America  2022-10-09\n",
            "4      C0005         Laura Weber           Asia  2022-08-15\n"
          ]
        }
      ]
    },
    {
      "cell_type": "markdown",
      "source": [
        "#first five rows of products table"
      ],
      "metadata": {
        "id": "UrOXPjc8L9qf"
      }
    },
    {
      "cell_type": "code",
      "source": [
        "print(products.head())"
      ],
      "metadata": {
        "colab": {
          "base_uri": "https://localhost:8080/"
        },
        "id": "IOZt140YMEZ9",
        "outputId": "3958afb4-1279-4140-96ee-eeaaba2c1c7b"
      },
      "execution_count": null,
      "outputs": [
        {
          "output_type": "stream",
          "name": "stdout",
          "text": [
            "  ProductID              ProductName     Category   Price\n",
            "0      P001     ActiveWear Biography        Books  169.30\n",
            "1      P002    ActiveWear Smartwatch  Electronics  346.30\n",
            "2      P003  ComfortLiving Biography        Books   44.12\n",
            "3      P004            BookWorld Rug   Home Decor   95.69\n",
            "4      P005          TechPro T-Shirt     Clothing  429.31\n"
          ]
        }
      ]
    },
    {
      "cell_type": "markdown",
      "source": [
        "#first five rows of transaction table"
      ],
      "metadata": {
        "id": "FSVXN6_0M4_o"
      }
    },
    {
      "cell_type": "code",
      "source": [
        "print(transactions.head())"
      ],
      "metadata": {
        "colab": {
          "base_uri": "https://localhost:8080/"
        },
        "id": "lxj0r6THMQao",
        "outputId": "946aea95-f3ca-4670-84bc-a7706ac1a9f4"
      },
      "execution_count": null,
      "outputs": [
        {
          "output_type": "stream",
          "name": "stdout",
          "text": [
            "  TransactionID CustomerID ProductID      TransactionDate  Quantity  \\\n",
            "0        T00001      C0199      P067  2024-08-25 12:38:23         1   \n",
            "1        T00112      C0146      P067  2024-05-27 22:23:54         1   \n",
            "2        T00166      C0127      P067  2024-04-25 07:38:55         1   \n",
            "3        T00272      C0087      P067  2024-03-26 22:55:37         2   \n",
            "4        T00363      C0070      P067  2024-03-21 15:10:10         3   \n",
            "\n",
            "   TotalValue   Price  \n",
            "0      300.68  300.68  \n",
            "1      300.68  300.68  \n",
            "2      300.68  300.68  \n",
            "3      601.36  300.68  \n",
            "4      902.04  300.68  \n"
          ]
        }
      ]
    },
    {
      "cell_type": "code",
      "source": [
        "print(customers.tail())"
      ],
      "metadata": {
        "colab": {
          "base_uri": "https://localhost:8080/"
        },
        "id": "Q8eWAYgsNGEs",
        "outputId": "1ca841c8-6ef7-457f-df33-88b83fbb276a"
      },
      "execution_count": null,
      "outputs": [
        {
          "output_type": "stream",
          "name": "stdout",
          "text": [
            "    CustomerID      CustomerName  Region  SignupDate\n",
            "195      C0196       Laura Watts  Europe  2022-06-07\n",
            "196      C0197  Christina Harvey  Europe  2023-03-21\n",
            "197      C0198       Rebecca Ray  Europe  2022-02-27\n",
            "198      C0199    Andrea Jenkins  Europe  2022-12-03\n",
            "199      C0200       Kelly Cross    Asia  2023-06-11\n"
          ]
        }
      ]
    },
    {
      "cell_type": "code",
      "source": [
        "print(products.tail())"
      ],
      "metadata": {
        "colab": {
          "base_uri": "https://localhost:8080/"
        },
        "id": "JqZGI5XxPq1z",
        "outputId": "d74efa73-430c-44dd-f88c-5c083553f1c7"
      },
      "execution_count": null,
      "outputs": [
        {
          "output_type": "stream",
          "name": "stdout",
          "text": [
            "   ProductID             ProductName     Category   Price\n",
            "95      P096    SoundWave Headphones  Electronics  307.47\n",
            "96      P097      BookWorld Cookbook        Books  319.34\n",
            "97      P098        SoundWave Laptop  Electronics  299.93\n",
            "98      P099  SoundWave Mystery Book        Books  354.29\n",
            "99      P100       HomeSense Sweater     Clothing  126.34\n"
          ]
        }
      ]
    },
    {
      "cell_type": "code",
      "source": [
        "print(transactions.tail())"
      ],
      "metadata": {
        "colab": {
          "base_uri": "https://localhost:8080/"
        },
        "id": "ZPeBLABVQAp9",
        "outputId": "c137c7ca-af1f-43a7-c579-6f244f3e9a71"
      },
      "execution_count": null,
      "outputs": [
        {
          "output_type": "stream",
          "name": "stdout",
          "text": [
            "    TransactionID CustomerID ProductID      TransactionDate  Quantity  \\\n",
            "995        T00496      C0118      P037  2024-10-24 08:30:27         1   \n",
            "996        T00759      C0059      P037  2024-06-04 02:15:24         3   \n",
            "997        T00922      C0018      P037  2024-04-05 13:05:32         4   \n",
            "998        T00959      C0115      P037  2024-09-29 10:16:02         2   \n",
            "999        T00992      C0024      P037  2024-04-21 10:52:24         1   \n",
            "\n",
            "     TotalValue   Price  \n",
            "995      459.86  459.86  \n",
            "996     1379.58  459.86  \n",
            "997     1839.44  459.86  \n",
            "998      919.72  459.86  \n",
            "999      459.86  459.86  \n"
          ]
        }
      ]
    },
    {
      "cell_type": "code",
      "source": [
        "print(customers.shape)\n",
        "print(products.shape)\n",
        "print(transactions.shape)"
      ],
      "metadata": {
        "colab": {
          "base_uri": "https://localhost:8080/"
        },
        "id": "f74O67UhQKs7",
        "outputId": "2ba18cd8-a1e6-4f1a-b31b-40aba3f55d5f"
      },
      "execution_count": null,
      "outputs": [
        {
          "output_type": "stream",
          "name": "stdout",
          "text": [
            "(200, 4)\n",
            "(100, 4)\n",
            "(1000, 7)\n"
          ]
        }
      ]
    },
    {
      "cell_type": "code",
      "source": [
        "print(customers.dtypes)\n",
        "print(products.dtypes)\n",
        "print(transactions.dtypes)"
      ],
      "metadata": {
        "colab": {
          "base_uri": "https://localhost:8080/"
        },
        "id": "FLA5tC8sQy2p",
        "outputId": "2a1eaef1-9960-4ffb-b615-f2d444cd4825"
      },
      "execution_count": null,
      "outputs": [
        {
          "output_type": "stream",
          "name": "stdout",
          "text": [
            "CustomerID      object\n",
            "CustomerName    object\n",
            "Region          object\n",
            "SignupDate      object\n",
            "dtype: object\n",
            "ProductID       object\n",
            "ProductName     object\n",
            "Category        object\n",
            "Price          float64\n",
            "dtype: object\n",
            "TransactionID       object\n",
            "CustomerID          object\n",
            "ProductID           object\n",
            "TransactionDate     object\n",
            "Quantity             int64\n",
            "TotalValue         float64\n",
            "Price              float64\n",
            "dtype: object\n"
          ]
        }
      ]
    },
    {
      "cell_type": "code",
      "source": [
        "print(customers.info())"
      ],
      "metadata": {
        "colab": {
          "base_uri": "https://localhost:8080/"
        },
        "id": "pSj6f_I4RCpv",
        "outputId": "81916ea7-e294-4775-90a3-0dced59b1730"
      },
      "execution_count": null,
      "outputs": [
        {
          "output_type": "stream",
          "name": "stdout",
          "text": [
            "<class 'pandas.core.frame.DataFrame'>\n",
            "RangeIndex: 200 entries, 0 to 199\n",
            "Data columns (total 4 columns):\n",
            " #   Column        Non-Null Count  Dtype \n",
            "---  ------        --------------  ----- \n",
            " 0   CustomerID    200 non-null    object\n",
            " 1   CustomerName  200 non-null    object\n",
            " 2   Region        200 non-null    object\n",
            " 3   SignupDate    200 non-null    object\n",
            "dtypes: object(4)\n",
            "memory usage: 6.4+ KB\n",
            "None\n"
          ]
        }
      ]
    },
    {
      "cell_type": "code",
      "source": [
        "print(products.info())"
      ],
      "metadata": {
        "colab": {
          "base_uri": "https://localhost:8080/"
        },
        "id": "REHirTZKRQnA",
        "outputId": "a7cf04cb-e19e-46cd-c7c6-0ccf816425d4"
      },
      "execution_count": null,
      "outputs": [
        {
          "output_type": "stream",
          "name": "stdout",
          "text": [
            "<class 'pandas.core.frame.DataFrame'>\n",
            "RangeIndex: 100 entries, 0 to 99\n",
            "Data columns (total 4 columns):\n",
            " #   Column       Non-Null Count  Dtype  \n",
            "---  ------       --------------  -----  \n",
            " 0   ProductID    100 non-null    object \n",
            " 1   ProductName  100 non-null    object \n",
            " 2   Category     100 non-null    object \n",
            " 3   Price        100 non-null    float64\n",
            "dtypes: float64(1), object(3)\n",
            "memory usage: 3.3+ KB\n",
            "None\n"
          ]
        }
      ]
    },
    {
      "cell_type": "code",
      "source": [
        "print(transactions.info())"
      ],
      "metadata": {
        "colab": {
          "base_uri": "https://localhost:8080/"
        },
        "id": "PhW08_ADUikU",
        "outputId": "292e3c6b-e461-4a9e-b659-95437daafd84"
      },
      "execution_count": null,
      "outputs": [
        {
          "output_type": "stream",
          "name": "stdout",
          "text": [
            "<class 'pandas.core.frame.DataFrame'>\n",
            "RangeIndex: 1000 entries, 0 to 999\n",
            "Data columns (total 7 columns):\n",
            " #   Column           Non-Null Count  Dtype  \n",
            "---  ------           --------------  -----  \n",
            " 0   TransactionID    1000 non-null   object \n",
            " 1   CustomerID       1000 non-null   object \n",
            " 2   ProductID        1000 non-null   object \n",
            " 3   TransactionDate  1000 non-null   object \n",
            " 4   Quantity         1000 non-null   int64  \n",
            " 5   TotalValue       1000 non-null   float64\n",
            " 6   Price            1000 non-null   float64\n",
            "dtypes: float64(2), int64(1), object(4)\n",
            "memory usage: 54.8+ KB\n",
            "None\n"
          ]
        }
      ]
    },
    {
      "cell_type": "markdown",
      "source": [
        " # Checks for missing data"
      ],
      "metadata": {
        "id": "sgzYxZozpvsN"
      }
    },
    {
      "cell_type": "code",
      "source": [
        "print(customers.isnull().sum())"
      ],
      "metadata": {
        "colab": {
          "base_uri": "https://localhost:8080/"
        },
        "id": "Utf1KQ2KU-rj",
        "outputId": "106836b4-b3f1-451a-930b-686565f1aeb3"
      },
      "execution_count": null,
      "outputs": [
        {
          "output_type": "stream",
          "name": "stdout",
          "text": [
            "CustomerID      0\n",
            "CustomerName    0\n",
            "Region          0\n",
            "SignupDate      0\n",
            "dtype: int64\n"
          ]
        }
      ]
    },
    {
      "cell_type": "markdown",
      "source": [
        "# Checks for duplicates"
      ],
      "metadata": {
        "id": "HPktcOIvpxZ6"
      }
    },
    {
      "cell_type": "code",
      "source": [
        "print(transactions.duplicated().sum())"
      ],
      "metadata": {
        "colab": {
          "base_uri": "https://localhost:8080/"
        },
        "id": "hFgd_LzPVUUk",
        "outputId": "35620cc2-a328-40f4-a6d1-0ca84c0a8751"
      },
      "execution_count": null,
      "outputs": [
        {
          "output_type": "stream",
          "name": "stdout",
          "text": [
            "0\n"
          ]
        }
      ]
    },
    {
      "cell_type": "markdown",
      "source": [
        " # Customers by region"
      ],
      "metadata": {
        "id": "OR-ah-Dyp4fG"
      }
    },
    {
      "cell_type": "code",
      "source": [
        "print(customers['Region'].value_counts())"
      ],
      "metadata": {
        "colab": {
          "base_uri": "https://localhost:8080/"
        },
        "id": "NOLBr6-HVZ3J",
        "outputId": "9a6936b7-77f9-422b-a2b4-d6f85fbd3fcc"
      },
      "execution_count": null,
      "outputs": [
        {
          "output_type": "stream",
          "name": "stdout",
          "text": [
            "Region\n",
            "South America    59\n",
            "Europe           50\n",
            "North America    46\n",
            "Asia             45\n",
            "Name: count, dtype: int64\n"
          ]
        }
      ]
    },
    {
      "cell_type": "markdown",
      "source": [
        " # Products by category"
      ],
      "metadata": {
        "id": "pLfwwf2IqGDb"
      }
    },
    {
      "cell_type": "code",
      "source": [
        "print(products['Category'].value_counts())"
      ],
      "metadata": {
        "id": "JdxAFDkX_qw3",
        "colab": {
          "base_uri": "https://localhost:8080/"
        },
        "outputId": "56c9bf25-4490-4ecf-c559-0a10bb2737c5"
      },
      "execution_count": null,
      "outputs": [
        {
          "output_type": "stream",
          "name": "stdout",
          "text": [
            "Category\n",
            "Books          26\n",
            "Electronics    26\n",
            "Clothing       25\n",
            "Home Decor     23\n",
            "Name: count, dtype: int64\n"
          ]
        }
      ]
    },
    {
      "cell_type": "markdown",
      "source": [
        "#Visualization"
      ],
      "metadata": {
        "id": "nC_jX2A7Ak0K"
      }
    },
    {
      "cell_type": "code",
      "source": [
        "import matplotlib.pyplot as plt\n",
        "customers['Region'].value_counts().plot(kind='bar')\n",
        "plt.title('Number of Customers by Region')\n",
        "plt.show()\n"
      ],
      "metadata": {
        "colab": {
          "base_uri": "https://localhost:8080/",
          "height": 560
        },
        "id": "a02a07wjASZN",
        "outputId": "7c5dbd7c-92f6-44f9-f689-ae00a8bd76dc"
      },
      "execution_count": null,
      "outputs": [
        {
          "output_type": "display_data",
          "data": {
            "text/plain": [
              "<Figure size 640x480 with 1 Axes>"
            ],
            "image/png": "[encoded data removed]"
          },
          "metadata": {}
        }
      ]
    }
  ]
}